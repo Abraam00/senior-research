{
 "cells": [
  {
   "cell_type": "code",
   "execution_count": 15,
   "metadata": {},
   "outputs": [],
   "source": [
    "import pandas as pd\n",
    "df = pd.read_csv(\"fraud_oracle.csv\")"
   ]
  },
  {
   "cell_type": "code",
   "execution_count": 16,
   "metadata": {},
   "outputs": [],
   "source": [
    "#removing bad age values\n",
    "df = df[df['Age'] != 0]\n",
    "\n",
    "#removing policy number and year\n",
    "df = df.drop([\"PolicyNumber\",\"Year\"],axis=1)"
   ]
  },
  {
   "cell_type": "code",
   "execution_count": 17,
   "metadata": {},
   "outputs": [],
   "source": [
    "#setting a number value for each month and day of the week\n",
    "month_to_number = {\n",
    "    'January': 1, 'Jan': 1,\n",
    "    'February': 2, 'Feb': 2,\n",
    "    'March': 3, 'Mar': 3,\n",
    "    'April': 4, 'Apr': 4,\n",
    "    'May': 5,\n",
    "    'June': 6, 'Jun': 6,\n",
    "    'July': 7, 'Jul': 7,\n",
    "    'August': 8, 'Aug': 8,\n",
    "    'September': 9, 'Sep': 9,\n",
    "    'October': 10, 'Oct': 10,\n",
    "    'November': 11, 'Nov': 11,\n",
    "    'December': 12, 'Dec': 12\n",
    "}\n",
    "day_to_number = {\n",
    "    'Monday': 1, 'Mon': 1,\n",
    "    'Tuesday': 2, 'Tue': 2,\n",
    "    'Wednesday': 3, 'Wed': 3,\n",
    "    'Thursday': 4, 'Thu': 4,\n",
    "    'Friday': 5, 'Fri': 5,\n",
    "    'Saturday': 6, 'Sat': 6,\n",
    "    'Sunday': 7, 'Sun': 7\n",
    "}"
   ]
  },
  {
   "cell_type": "code",
   "execution_count": 18,
   "metadata": {},
   "outputs": [],
   "source": [
    "#changing the months and days values to numerical values\n",
    "df['Month'] = df['Month'].map(month_to_number)\n",
    "df['MonthClaimed'] = df['MonthClaimed'].map(month_to_number)\n",
    "df['DayOfWeek'] = df['DayOfWeek'].map(day_to_number)\n",
    "df['DayOfWeekClaimed'] = df['DayOfWeekClaimed'].map(day_to_number)"
   ]
  },
  {
   "cell_type": "code",
   "execution_count": 19,
   "metadata": {},
   "outputs": [],
   "source": [
    "from sklearn.preprocessing import LabelEncoder\n",
    "\n",
    "# List of column names to encode\n",
    "columns_to_encode = ['AccidentArea','Sex','MaritalStatus','Fault','VehicleCategory','PastNumberOfClaims','PoliceReportFiled','WitnessPresent','AgentType','BasePolicy']\n",
    "\n",
    "# LabelEncoder for each selected column\n",
    "label_encoders = {}\n",
    "\n",
    "# Encode the selected columns\n",
    "for column in columns_to_encode:\n",
    "    label_encoder = LabelEncoder()\n",
    "    df[column] = label_encoder.fit_transform(df[column])\n",
    "    label_encoders[column] = label_encoder"
   ]
  },
  {
   "cell_type": "code",
   "execution_count": 20,
   "metadata": {},
   "outputs": [],
   "source": [
    "from sklearn.preprocessing import OneHotEncoder\n",
    "from sklearn.compose import ColumnTransformer\n",
    "\n",
    "# columns to be one-hot encoded\n",
    "columns_to_encode = ['Make', 'PolicyType', 'VehiclePrice','Days_Policy_Accident','Days_Policy_Claim','AgeOfVehicle','AgeOfPolicyHolder','AddressChange_Claim','NumberOfCars','NumberOfSuppliments']\n",
    "\n",
    "encoder = OneHotEncoder()\n",
    "encoded_data = encoder.fit_transform(df[['Make', 'PolicyType', 'VehiclePrice','Days_Policy_Accident','Days_Policy_Claim','AgeOfVehicle','AgeOfPolicyHolder','AddressChange_Claim','NumberOfCars','NumberOfSuppliments']])\n",
    "df_encoded = pd.DataFrame(encoded_data.toarray(), columns=encoder.get_feature_names_out(['Make', 'PolicyType', 'VehiclePrice','Days_Policy_Accident','Days_Policy_Claim','AgeOfVehicle','AgeOfPolicyHolder','AddressChange_Claim','NumberOfCars','NumberOfSuppliments']))\n"
   ]
  },
  {
   "cell_type": "code",
   "execution_count": 21,
   "metadata": {},
   "outputs": [],
   "source": [
    "df = df.drop(['Make', 'PolicyType', 'VehiclePrice','Days_Policy_Accident','Days_Policy_Claim','AgeOfVehicle','AgeOfPolicyHolder','AddressChange_Claim','NumberOfCars','NumberOfSuppliments'],axis=1)\n",
    "df = df.reset_index()\n",
    "df = df.drop('index',axis=1)\n",
    "df_encoded = df_encoded.reset_index()\n",
    "df_encoded = df_encoded.drop('index',axis=1)\n",
    "\n",
    "#concat both data frames\n",
    "concatenated_df = pd.concat([df, df_encoded], axis=1)"
   ]
  }
 ],
 "metadata": {
  "kernelspec": {
   "display_name": "Python 3.10.5 64-bit",
   "language": "python",
   "name": "python3"
  },
  "language_info": {
   "codemirror_mode": {
    "name": "ipython",
    "version": 3
   },
   "file_extension": ".py",
   "mimetype": "text/x-python",
   "name": "python",
   "nbconvert_exporter": "python",
   "pygments_lexer": "ipython3",
   "version": "3.10.5"
  },
  "orig_nbformat": 4,
  "vscode": {
   "interpreter": {
    "hash": "aee8b7b246df8f9039afb4144a1f6fd8d2ca17a180786b69acc140d282b71a49"
   }
  }
 },
 "nbformat": 4,
 "nbformat_minor": 2
}
